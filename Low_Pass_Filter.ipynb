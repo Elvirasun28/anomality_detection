{
  "nbformat": 4,
  "nbformat_minor": 0,
  "metadata": {
    "colab": {
      "name": "Low-Pass Filter.ipynb",
      "version": "0.3.2",
      "provenance": [],
      "private_outputs": true,
      "include_colab_link": true
    },
    "kernelspec": {
      "name": "python3",
      "display_name": "Python 3"
    },
    "accelerator": "GPU"
  },
  "cells": [
    {
      "cell_type": "markdown",
      "metadata": {
        "id": "view-in-github",
        "colab_type": "text"
      },
      "source": [
        "<a href=\"https://colab.research.google.com/github/Elvirasun28/anomality_detection/blob/master/Low_Pass_Filter.ipynb\" target=\"_parent\"><img src=\"https://colab.research.google.com/assets/colab-badge.svg\" alt=\"Open In Colab\"/></a>"
      ]
    },
    {
      "metadata": {
        "id": "cdRUa36SU0VE",
        "colab_type": "code",
        "colab": {}
      },
      "cell_type": "code",
      "source": [
        "from google.colab import drive\n",
        "drive.mount('/content/gdrive')"
      ],
      "execution_count": 0,
      "outputs": []
    },
    {
      "metadata": {
        "id": "K2LJEqUXXXsu",
        "colab_type": "code",
        "colab": {}
      },
      "cell_type": "code",
      "source": [
        "import os\n",
        "\n",
        "path = \"/content/gdrive/My Drive/Colab Notebooks/anomality_detection\"\n",
        "os.chdir(path)\n",
        "os.listdir(path)"
      ],
      "execution_count": 0,
      "outputs": []
    },
    {
      "metadata": {
        "id": "ve8W00qFXjlW",
        "colab_type": "code",
        "colab": {}
      },
      "cell_type": "code",
      "source": [
        "from __future__ import division\n",
        "from itertools import count\n",
        "import matplotlib.pyplot as plt \n",
        "from numpy import linspace, loadtxt, ones, convolve\n",
        "import numpy as np\n",
        "import pandas as pd\n",
        "import collections\n",
        "from random import randint \n",
        "from matplotlib import style \n",
        "style.use('fivethirtyeight')"
      ],
      "execution_count": 0,
      "outputs": []
    },
    {
      "metadata": {
        "id": "76jKN5HNXkL0",
        "colab_type": "code",
        "colab": {}
      },
      "cell_type": "code",
      "source": [
        "## load dataset \n",
        "data = loadtxt('data/sunspots.txt',np.float)\n",
        "data_as_frame = pd.DataFrame(data,columns=['Months','SunSpots'])"
      ],
      "execution_count": 0,
      "outputs": []
    },
    {
      "metadata": {
        "id": "DMbZ2r1JXkOk",
        "colab_type": "code",
        "colab": {}
      },
      "cell_type": "code",
      "source": [
        "def moving_average(data,window_size):\n",
        "    window = np.ones(int(window_size)) / np.float(window_size)\n",
        "    return np.convolve(data,window,'same')\n",
        "\n",
        "def explain_anomalies(y,window_size, sigma=1.0):\n",
        "    ''' exploring the anamolies using stationary standard deviation '''\n",
        "    avg = moving_average(y, window_size).tolist()\n",
        "    residual = y - avg \n",
        "    std = np.std(residual)\n",
        "    return {'standard_deviation':round(std,3),\n",
        "            'anomalies_dict':collections.OrderedDict([(idx,y_i) for idx, y_i, avg_i in zip(count(),y,avg)\n",
        "                    if (y_i > avg_i + (sigma * std)) | (y_i < avg_i - (sigma*std))\n",
        "                    ])\n",
        "            \n",
        "            }\n",
        "\n",
        "\n",
        "def explain_anomalies_rolling_std(y,window_size, sigma = 1.0):\n",
        "    ''' exploring the anamolies using rolling standard deviation '''\n",
        "    avg = moving_average(y,window_size).tolist()\n",
        "    residual = y - avg \n",
        "    # caculate the variation in the distribution of the residual \n",
        "    testing_std = residual.rolling(window_size).std()\n",
        "    testing_std_as_df = pd.DataFrame(testing_std)\n",
        "    rolling_std = testing_std_as_df.replace(np.nan,\n",
        "                                  testing_std_as_df.ix[window_size - 1]).round(3).iloc[:,0].tolist()\n",
        "    std = np.std(residual)\n",
        "    return {\n",
        "        'stationary standard_deviation': round(std,3),\n",
        "        'anomalies_dict':collections.OrderedDict([\n",
        "            (idx, y_i) for idx, y_i, avg_i, rs_i in zip(count(), y, avg, rolling_std)\n",
        "            if (y_i > avg_i +(sigma * rs_i)) |(y_i < avg_i - (sigma * rs_i))\n",
        "        ])\n",
        "    }"
      ],
      "execution_count": 0,
      "outputs": []
    },
    {
      "metadata": {
        "id": "JfobOyDJXkQU",
        "colab_type": "code",
        "colab": {}
      },
      "cell_type": "code",
      "source": [
        "def plot_results(x, y, window_size, sigma_value = 1, title_for_plot = None, text_xlabel = 'X Axis', text_ylabel = 'Y Axis', apply_rolling_std = False):\n",
        "  plt.figure(figsize=(15,8))\n",
        "  plt.plot(x,y,'k.')\n",
        "  y_av = moving_average(y,window_size)\n",
        "  plt.plot(x,y_av,color = 'green')\n",
        "  plt.xlim(0,1000)\n",
        "  plt.xlabel(text_xlabel)\n",
        "  plt.ylabel(text_ylabel)\n",
        "  plt.title(title_for_plot)\n",
        "  # query for the anomalies and plot the same \n",
        "  events = {}\n",
        "  if apply_rolling_std:\n",
        "    events = explain_anomalies_rolling_std(y,window_size = window_size, sigma = sigma_value)\n",
        "  else:\n",
        "    events = explain_anomalies(y, window_size = window_size, sigma = sigma_value)\n",
        "  \n",
        "  x_anomal = np.fromiter(events['anomalies_dict'].keys(), dtype = int, count=len(events['anomalies_dict']))\n",
        "  y_anomal = np.fromiter(events['anomalies_dict'].values(),dtype = float, count = len(events['anomalies_dict']))\n",
        "  \n",
        "  plt.plot(x_anomal, y_anomal, \"r*\",markersize = 12)\n",
        "  plt.grid(True)\n",
        "  plt.show()"
      ],
      "execution_count": 0,
      "outputs": []
    },
    {
      "metadata": {
        "id": "l2gHimsoVEm6",
        "colab_type": "code",
        "colab": {}
      },
      "cell_type": "code",
      "source": [
        "x = data_as_frame['Months']\n",
        "y = data_as_frame['SunSpots']\n",
        "# plot the results \n",
        "plot_results(x, y, window_size = 10, text_xlabel = 'Months', text_ylabel = 'No. of SunSpots', sigma_value = 3)\n",
        "events = explain_anomalies(y, 5, 3)\n",
        "# Display the anomaly dict\n",
        "print(\"Information about the anomalies model:{}\".format(events))"
      ],
      "execution_count": 0,
      "outputs": []
    },
    {
      "metadata": {
        "id": "wjwLBZ1BYYbS",
        "colab_type": "text"
      },
      "cell_type": "markdown",
      "source": [
        "+ Another Case: Stock Prediction"
      ]
    },
    {
      "metadata": {
        "id": "ElyktoLVYggy",
        "colab_type": "code",
        "colab": {}
      },
      "cell_type": "code",
      "source": [
        "# Convenience function to add noise\n",
        "def noise(yval):\n",
        "    \"\"\" Helper function to generate random points \"\"\"\n",
        "    np.random.seed(0)\n",
        "    return 20*np.asarray(yval)*np.random.normal(size=len(yval))\n",
        "  \n",
        "# Generate a random dataset\n",
        "def generate_random_dataset(size_of_array=1000, random_state=0):\n",
        "  \n",
        "    np.random.seed(random_state)\n",
        "    y = np.random.normal(0, 0.5, size_of_array)\n",
        "    x = range(0, size_of_array)\n",
        "    y_new = [y_i + index**((size_of_array - index)/size_of_array) +ns*((size_of_array - index)/size_of_array) for index, y_i,ns in zip(count(), y, noise(y))]\n",
        "    return x, pd.Series(y_new)"
      ],
      "execution_count": 0,
      "outputs": []
    },
    {
      "metadata": {
        "id": "OvC26XFgYqCB",
        "colab_type": "code",
        "colab": {}
      },
      "cell_type": "code",
      "source": [
        "# Lets play\n",
        "x1, y1 = generate_random_dataset()\n",
        "plot_results(x1, y1, window_size=12, title_for_plot=\"Statinoary Standard Deviation\",\n",
        "                    sigma_value=3, text_xlabel=\"Time in Days\", text_ylabel=\"Value in $\")\n",
        "\n",
        "# using rolling standard deviation for\n",
        "x1, y1 = generate_random_dataset()\n",
        "plot_results(x1, y1, window_size=50, title_for_plot=\"Using rolling standard deviation\",\n",
        "             sigma_value=3, text_xlabel=\"Time in Days\", text_ylabel=\"Value in $\", apply_rolling_std=True)"
      ],
      "execution_count": 0,
      "outputs": []
    }
  ]
}