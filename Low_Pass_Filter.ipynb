{
  "nbformat": 4,
  "nbformat_minor": 0,
  "metadata": {
    "colab": {
      "name": "Low-Pass Filter.ipynb",
      "version": "0.3.2",
      "provenance": [],
      "private_outputs": true,
      "include_colab_link": true
    },
    "kernelspec": {
      "name": "python3",
      "display_name": "Python 3"
    },
    "accelerator": "GPU"
  },
  "cells": [
    {
      "cell_type": "markdown",
      "metadata": {
        "id": "view-in-github",
        "colab_type": "text"
      },
      "source": [
        "<a href=\"https://colab.research.google.com/github/Elvirasun28/anomality_detection/blob/master/Low_Pass_Filter.ipynb\" target=\"_parent\"><img src=\"https://colab.research.google.com/assets/colab-badge.svg\" alt=\"Open In Colab\"/></a>"
      ]
    },
    {
      "metadata": {
        "id": "cdRUa36SU0VE",
        "colab_type": "code",
        "colab": {}
      },
      "cell_type": "code",
      "source": [
        "from google.colab import drive\n",
        "drive.mount('/content/gdrive')"
      ],
      "execution_count": 0,
      "outputs": []
    },
    {
      "metadata": {
        "id": "K2LJEqUXXXsu",
        "colab_type": "code",
        "colab": {}
      },
      "cell_type": "code",
      "source": [
        "import os\n",
        "\n",
        "path = \"/content/gdrive/My Drive/Colab Notebooks/anomality_detection\"\n",
        "os.chdir(path)\n",
        "os.listdir(path)"
      ],
      "execution_count": 0,
      "outputs": []
    },
    {
      "metadata": {
        "id": "ve8W00qFXjlW",
        "colab_type": "code",
        "colab": {}
      },
      "cell_type": "code",
      "source": [
        "from __future__ import division\n",
        "from itertools import count\n",
        "import matplotlib.pyplot as plt \n",
        "from numpy import linspace, loadtxt, ones, convolve\n",
        "import numpy as np\n",
        "import pandas as pd\n",
        "import collections\n",
        "from random import randint \n",
        "from matplotlib import style \n",
        "style.use('fivethirtyeight')"
      ],
      "execution_count": 0,
      "outputs": []
    },
    {
      "metadata": {
        "id": "76jKN5HNXkL0",
        "colab_type": "code",
        "colab": {}
      },
      "cell_type": "code",
      "source": [
        "## load dataset \n",
        "data = loadtxt('data/sunspots.txt',np.float)\n",
        "data_as_frame = pd.DataFrame(data,columns=['Months','SunSpots'])"
      ],
      "execution_count": 0,
      "outputs": []
    },
    {
      "metadata": {
        "id": "DMbZ2r1JXkOk",
        "colab_type": "code",
        "colab": {}
      },
      "cell_type": "code",
      "source": [
        "def moving_average(data,window_size):\n",
        "    window = np.ones(int(window_size)) / np.float(window_size)\n",
        "    return np.convolve(data,window,'same')\n",
        "\n",
        "def explain_anomalies(y,window_size, sigma=1.0):\n",
        "    ''' exploring the anamolies using stationary standard deviation '''\n",
        "    avg = moving_average(y, window_size),tolist()\n",
        "    residual = y - avg \n",
        "    std = np.std(residual)\n",
        "    return {'standard_deviation':round(std,3),\n",
        "            'anomalies_dict':collections.OrderedDict([(idx,y_i) for idx, y_i, avg_i in zip(count(),y,avg)\n",
        "                    if (y_i > avg_i + (sigma * std)) | (y_i < avg_i - (sigma*std))\n",
        "                    ])\n",
        "            \n",
        "            }\n",
        "\n",
        "\n",
        "def explain_anomalies_rolling_std(y,window_size, sigma = 1.0):\n",
        "    ''' exploring the anamolies using rolling standard deviation '''\n",
        "    avg = moving_average(y,window_size).tolist()\n",
        "    residual = y - avg \n",
        "    # caculate the variation in the distribution of the residual \n",
        "    testing_std = pd.rolling_std(residual,window_size)\n",
        "    testing_std_as_df = pd.DataFrame(testing_std)\n",
        "    rolling_std = testing_std_as_df.replace(np.nan,\n",
        "                                  testing_std_as_df.ix[window_size - 1]).round(3).iloc[:,0].tolist()\n",
        "    "
      ],
      "execution_count": 0,
      "outputs": []
    },
    {
      "metadata": {
        "id": "JfobOyDJXkQU",
        "colab_type": "code",
        "colab": {}
      },
      "cell_type": "code",
      "source": [
        ""
      ],
      "execution_count": 0,
      "outputs": []
    }
  ]
}